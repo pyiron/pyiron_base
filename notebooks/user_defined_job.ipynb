{
 "cells": [
  {
   "cell_type": "markdown",
   "id": "f530e186-cdda-441d-bc43-595bf1add146",
   "metadata": {},
   "source": [
    "# Minimal implementation example using pyiron for software packages with or without executable\n",
    "\n",
    "We show how to implement a code in pyiron using an example of Gnuplot fit, which requires the executable `gnuplot` and an input file, issueing an output file after execution. We show the same process using `numpy.polyfit`, to show an example for the same procedure without executables.\n",
    "\n",
    "For software packages which requires an executable, we can use `TemplateJob` from `pyiron_base`. Otherwise if it can run only within python, you can use `PythonTemplateJob`.\n",
    "\n",
    "Detailed explanation:\n",
    "\n",
    "Let's say we have a certain number of data points `x` and `y`, which we know have a linear relationship. With the usual gnuplot workflow, we would store the data file (which we call `xy.dat`), which should be stored as:\n",
    "\n",
    "```\n",
    "x_1 y_1\n",
    "x_2 y_2\n",
    "...\n",
    "x_n y_n\n",
    "```\n",
    "\n",
    "Then the fit parameters can be obtained through:\n",
    "\n",
    "```\n",
    "f(x) = a*x + b\n",
    "fit f(x) \"xy.dat\" using 1:2 via a,b\n",
    "```\n",
    "\n",
    "The actual parameters will be stored in `fit.log`, which has to be parsed.\n",
    "\n",
    "For the second part, we show the same example using `numpy.polyfit`, which does not require an executable, but can do the same."
   ]
  },
  {
   "cell_type": "code",
   "execution_count": 1,
   "id": "05bde3a6-baa3-4cc4-a43a-dec9d2ebb2f8",
   "metadata": {
    "tags": []
   },
   "outputs": [],
   "source": [
    "from pyiron_base import PythonTemplateJob, TemplateJob, Project\n",
    "import numpy as np\n",
    "import matplotlib.pylab as plt\n",
    "import os"
   ]
  },
  {
   "cell_type": "code",
   "execution_count": 2,
   "id": "4fb5810d-b580-4ef9-afcb-84f2c2e03c92",
   "metadata": {
    "tags": []
   },
   "outputs": [],
   "source": [
    "# We take 10 points, simulating some simulation results, which should be able to be represented by a linear function\n",
    "n = 10\n",
    "x = np.linspace(0, 1, n)\n",
    "y = x.copy()\n",
    "# Add fluctions to make it exciting\n",
    "x_measure = x + 0.01 * np.random.randn(n)\n",
    "y_measure = y + 0.01 * np.random.randn(n)"
   ]
  },
  {
   "cell_type": "code",
   "execution_count": 3,
   "id": "f164e9e3-2ba1-4108-9430-05971309697a",
   "metadata": {},
   "outputs": [],
   "source": [
    "pr = Project(\"EXAMPLE\")"
   ]
  },
  {
   "cell_type": "markdown",
   "id": "e7cd6b0a-74b2-4ee4-a65f-b7ebd50c02aa",
   "metadata": {
    "tags": []
   },
   "source": [
    "## Part I: Executable example (Gnuplot)"
   ]
  },
  {
   "cell_type": "markdown",
   "id": "14a77228-3eec-4ea8-953d-f40f6eff8a7b",
   "metadata": {},
   "source": [
    "### Parser"
   ]
  },
  {
   "cell_type": "code",
   "execution_count": 4,
   "id": "de459b93-e736-4ea9-b878-a3b704e0a92c",
   "metadata": {
    "tags": []
   },
   "outputs": [],
   "source": [
    "# These are the gnuplot parsers, required to extract the fit parameters, i.e. slope and intercept\n",
    "\n",
    "def _get_gnuplot_parameter_line(content):\n",
    "    for ii, line in enumerate(content):\n",
    "        if line.startswith(\"Final set of parameters\"):\n",
    "            return ii + 2\n",
    "    raise ValueError(\"line not found\")\n",
    "    \n",
    "def get_gnuplot_parameters(content):\n",
    "    parameter_line = _get_gnuplot_parameter_line(content)\n",
    "    slope = float(content[parameter_line].split(\"=\")[1].split()[0])\n",
    "    intercept = float(content[parameter_line + 1].split(\"=\")[1].split()[0])\n",
    "    return slope, intercept"
   ]
  },
  {
   "cell_type": "markdown",
   "id": "a0cef633-d151-400a-a6ff-c9b28fd80198",
   "metadata": {},
   "source": [
    "### Job class"
   ]
  },
  {
   "cell_type": "code",
   "execution_count": 5,
   "id": "ba02440a-1a82-4a9b-8ae4-e865542419bb",
   "metadata": {
    "tags": []
   },
   "outputs": [],
   "source": [
    "class Gnuplot(TemplateJob):\n",
    "    def __init__(self, project, job_name):\n",
    "        super().__init__(project, job_name)\n",
    "        self.executable = \"gnuplot \\\"input.gnu\\\"\" # executable, required\n",
    "        # self.input is available to the user and it can store anything that can be serialized.\n",
    "        # The content will be automatically stored when `job.run()` is called\n",
    "        self.input.x = None\n",
    "        self.input.y = None\n",
    "        self.input.gnuplot_file = \"f(x) = a*x+b\\nfit f(x) \\\"xy.dat\\\" using 1:2 via a,b\"\n",
    "\n",
    "    # `write_input` is called before the executable is called\n",
    "    def write_input(self):\n",
    "        data_file = os.path.join(self.working_directory, 'xy.dat')\n",
    "        gnuplot_file = os.path.join(self.working_directory, 'input.gnu')\n",
    "        np.savetxt(data_file, np.stack((self.input.x, self.input.y), axis=-1))\n",
    "        with open(gnuplot_file, \"w\") as f:\n",
    "            f.write(self.input.gnuplot_file)\n",
    "        \n",
    "    # `collect_output` is called after the executable is called.\n",
    "    # It should include the parsing process\n",
    "    def collect_output(self):\n",
    "        data_file = os.path.join(self.working_directory, 'fit.log')\n",
    "        with open(data_file, \"r\") as f:\n",
    "            content = f.readlines()\n",
    "        # Just like `self.input`, `self.output` is available to the user.\n",
    "        # The content will be stored when `self.to_hdf()` is called.\n",
    "        self.output.slope, self.output.intercept = get_gnuplot_parameters(content)\n",
    "        self.to_hdf()\n",
    "        \n",
    "    # Optional function. If defined, it will be called before `write_input`\n",
    "    def validate_ready_to_run(self):\n",
    "        if self.input.x is None or self.input.y is None:\n",
    "            raise ValueError(\"x and/or y is not defined\")"
   ]
  },
  {
   "cell_type": "markdown",
   "id": "83ec4480-8d5d-433a-ba05-912fed624629",
   "metadata": {},
   "source": [
    "### User interface (independent of with or without executable)"
   ]
  },
  {
   "cell_type": "code",
   "execution_count": 6,
   "id": "7fbe1c24-5655-4dae-bd13-49a596ebff2d",
   "metadata": {
    "tags": []
   },
   "outputs": [
    {
     "name": "stdout",
     "output_type": "stream",
     "text": [
      "The job gnuplot_example was saved and received the ID: 6115\n"
     ]
    }
   ],
   "source": [
    "job = pr.create_job(Gnuplot, job_name=\"gnuplot_example\")\n",
    "job.input.x = x_measure\n",
    "job.input.y = y_measure\n",
    "\n",
    "job.run()"
   ]
  },
  {
   "cell_type": "markdown",
   "id": "ac874262-b461-4223-8abc-ea005fca35cb",
   "metadata": {},
   "source": [
    "### Output visualization (independent of with or without executable)"
   ]
  },
  {
   "cell_type": "code",
   "execution_count": 7,
   "id": "dd8d619a-ce4f-4c33-a981-aaf63b7eeabb",
   "metadata": {
    "tags": []
   },
   "outputs": [
    {
     "data": {
      "text/plain": [
       "[<matplotlib.lines.Line2D at 0x7f046c450250>]"
      ]
     },
     "execution_count": 7,
     "metadata": {},
     "output_type": "execute_result"
    },
    {
     "data": {
      "image/png": "[encoded data removed]",
      "text/plain": [
       "<Figure size 640x480 with 1 Axes>"
      ]
     },
     "metadata": {},
     "output_type": "display_data"
    }
   ],
   "source": [
    "plt.scatter(x_measure, y_measure, label=\"input data\")\n",
    "plt.plot(x_measure, x_measure * job.output.slope + job.output.intercept, label=\"output data\")"
   ]
  },
  {
   "cell_type": "markdown",
   "id": "8879be3c-fcc3-4701-9e93-edc4ee0930b1",
   "metadata": {
    "tags": []
   },
   "source": [
    "## Part II: Non-Executable example (`numpy.polyfit`)"
   ]
  },
  {
   "cell_type": "markdown",
   "id": "1abb7434-42e5-40f5-9d08-1920d572b996",
   "metadata": {},
   "source": [
    "### Job class"
   ]
  },
  {
   "cell_type": "code",
   "execution_count": 8,
   "id": "51b7265e-1255-4b1e-83a3-461ed82eaf8b",
   "metadata": {
    "tags": []
   },
   "outputs": [],
   "source": [
    "class NumpyFit(PythonTemplateJob):\n",
    "    def __init__(self, project, job_name):\n",
    "        super().__init__(project, job_name)\n",
    "        self.input.x = None\n",
    "        self.input.y = None\n",
    "\n",
    "    def run_static(self):\n",
    "        coeff = np.polyfit(self.input.x, self.input.y, deg=1)\n",
    "        self.output.slope, self.output.intercept = coeff\n",
    "        self.to_hdf()\n",
    "        \n",
    "    def validate_ready_to_run(self):\n",
    "        if self.input.x is None or self.input.y is None:\n",
    "            raise ValueError(\"x and/or y is not defined\")"
   ]
  },
  {
   "cell_type": "markdown",
   "id": "b3cc182e-9a09-40c4-baf2-7c8a45a1b09d",
   "metadata": {},
   "source": [
    "### User interface (independent of with or without executable)"
   ]
  },
  {
   "cell_type": "code",
   "execution_count": 9,
   "id": "fd7fed3e-49d1-4478-a6ab-bb182dd263f0",
   "metadata": {
    "tags": []
   },
   "outputs": [
    {
     "name": "stdout",
     "output_type": "stream",
     "text": [
      "The job numpy_example was saved and received the ID: 6116\n"
     ]
    }
   ],
   "source": [
    "job = pr.create_job(NumpyFit, job_name=\"numpy_example\")\n",
    "job.input.x = x_measure\n",
    "job.input.y = y_measure\n",
    "\n",
    "job.run()"
   ]
  },
  {
   "cell_type": "markdown",
   "id": "ff8097b7-7ffc-4718-9f17-0b9955dcbac1",
   "metadata": {},
   "source": [
    "### Output visualization (independent of with or without executable)"
   ]
  },
  {
   "cell_type": "code",
   "execution_count": 10,
   "id": "24761af2-934c-4faf-90d2-3030032d80a3",
   "metadata": {
    "tags": []
   },
   "outputs": [
    {
     "data": {
      "text/plain": [
       "[<matplotlib.lines.Line2D at 0x7f046bec5e50>]"
      ]
     },
     "execution_count": 10,
     "metadata": {},
     "output_type": "execute_result"
    },
    {
     "data": {
      "image/png": "[encoded data removed]",
      "text/plain": [
       "<Figure size 640x480 with 1 Axes>"
      ]
     },
     "metadata": {},
     "output_type": "display_data"
    }
   ],
   "source": [
    "plt.scatter(x_measure, y_measure, label=\"input data\")\n",
    "plt.plot(x_measure, x_measure * job.output.slope + job.output.intercept, label=\"output data\")"
   ]
  },
  {
   "cell_type": "code",
   "execution_count": null,
   "id": "a6814212-f445-4a63-98e6-d5fecf657c74",
   "metadata": {},
   "outputs": [],
   "source": []
  }
 ],
 "metadata": {
  "kernelspec": {
   "display_name": "pyiron",
   "language": "python",
   "name": "pyiron"
  },
  "language_info": {
   "codemirror_mode": {
    "name": "ipython",
    "version": 3
   },
   "file_extension": ".py",
   "mimetype": "text/x-python",
   "name": "python",
   "nbconvert_exporter": "python",
   "pygments_lexer": "ipython3",
   "version": "3.11.6"
  }
 },
 "nbformat": 4,
 "nbformat_minor": 5
}
